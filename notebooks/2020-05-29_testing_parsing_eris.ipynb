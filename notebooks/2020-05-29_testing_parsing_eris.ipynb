{
 "cells": [
  {
   "cell_type": "markdown",
   "metadata": {},
   "source": [
    "# Тестируем прасинг ЕИС в сфере закупок"
   ]
  },
  {
   "cell_type": "markdown",
   "metadata": {},
   "source": [
    "Ссылка на ЕИС: [https://zakupki.gov.ru/](https://zakupki.gov.ru/)"
   ]
  },
  {
   "cell_type": "code",
   "execution_count": 1,
   "metadata": {},
   "outputs": [],
   "source": [
    "import time \n",
    "import urllib.parse\n",
    "\n",
    "# библиотеки для работы с HTML\n",
    "import requests\n",
    "import selenium\n",
    "from selenium import webdriver\n",
    "from bs4 import BeautifulSoup\n",
    "\n",
    "# библиотеки для предобработки и анализа данных \n",
    "import pandas as pd\n",
    "\n",
    "# библиотеки для работы в jupyter notebook\n",
    "import warnings\n",
    "warnings.filterwarnings(action='once')  # показывает предупреждения один раз\n",
    "warnings.filterwarnings('ignore')"
   ]
  },
  {
   "cell_type": "markdown",
   "metadata": {},
   "source": [
    "### Формируем запрос к ЕИС"
   ]
  },
  {
   "cell_type": "code",
   "execution_count": 6,
   "metadata": {},
   "outputs": [],
   "source": [
    "def get_query(search_string='', \n",
    "              search_filter='Дате размещения',\n",
    "              page_number=1, \n",
    "              start_date='01.01.2012', \n",
    "              end_date='31.12.2012'):\n",
    "    s_str = '+'.join(list(map(urllib.parse.quote, search_string.split())))\n",
    "    s_flt = '+'.join(list(map(urllib.parse.quote, search_filter.split())))\n",
    "    query = 'https://zakupki.gov.ru/epz/order/extendedsearch/results.html' \\\n",
    "            + f'?searchString={s_str}' \\\n",
    "            + '&morphology=on' \\\n",
    "            + f'&search-filter=+{s_flt}' \\\n",
    "            + f'&pageNumber={page_number}' \\\n",
    "            + '&sortDirection=true' \\\n",
    "            + '&recordsPerPage=_100' \\\n",
    "            + '&showLotsInfoHidden=false' \\\n",
    "            + '&sortBy=PUBLISH_DATE' \\\n",
    "            + '&fz44=on' \\\n",
    "            + '&fz223=on' \\\n",
    "            + '&af=on' \\\n",
    "            + '&placingWayList=PO44%2CPOP44%2CZPESMBO%2CZKI44%2COKDI504%2CZKKUI44%2' \\\n",
    "            + 'CZP504%2CZPP504%2CEZP504%2CZKESMBO%2CKESMBO%2COA%2COK111%2COKU111%2COKD' \\\n",
    "            + '111%2CZK111%2CZKB111%2CZP111%2CPO111%2CZP44%2CZPP44%2CPK44%2CPO44%2CPOP44%2CZP44%2CZPP44%2CPR' \\\n",
    "            + '&selectedSubjectsIdNameHidden=%7B%7D' \\\n",
    "            + f'&publishDateFrom={start_date}' \\\n",
    "            + f'&publishDateTo={end_date}' \\\n",
    "            + '&currencyIdGeneral=-1' \\\n",
    "            + '&OrderPlacementSmallBusinessSubject=on' \\\n",
    "            + '&OrderPlacementRnpData=on' \\\n",
    "            + '&OrderPlacementExecutionRequirement=on' \\\n",
    "            + '&orderPlacement94_0=0' \\\n",
    "            + '&orderPlacement94_1=0' \\\n",
    "            + '&orderPlacement94_2=0'\n",
    "    return query"
   ]
  },
  {
   "cell_type": "markdown",
   "metadata": {},
   "source": [
    "### Собираем ссылки на тендеры"
   ]
  },
  {
   "cell_type": "code",
   "execution_count": null,
   "metadata": {},
   "outputs": [],
   "source": []
  },
  {
   "cell_type": "markdown",
   "metadata": {},
   "source": [
    "### Читаем ответ ЕИС"
   ]
  }
 ],
 "metadata": {
  "kernelspec": {
   "display_name": "Python 3",
   "language": "python",
   "name": "python3"
  },
  "language_info": {
   "codemirror_mode": {
    "name": "ipython",
    "version": 3
   },
   "file_extension": ".py",
   "mimetype": "text/x-python",
   "name": "python",
   "nbconvert_exporter": "python",
   "pygments_lexer": "ipython3",
   "version": "3.7.4"
  }
 },
 "nbformat": 4,
 "nbformat_minor": 2
}
