{
 "cells": [
  {
   "cell_type": "markdown",
   "metadata": {},
   "source": [
    "# Тестируем Bitrix24 SDK"
   ]
  },
  {
   "cell_type": "code",
   "execution_count": 2,
   "metadata": {},
   "outputs": [],
   "source": [
    "import sys\n",
    "sys.path.append(\"..\")"
   ]
  },
  {
   "cell_type": "code",
   "execution_count": 4,
   "metadata": {},
   "outputs": [],
   "source": [
    "from bx24.rest import BX24\n",
    "import yaml"
   ]
  },
  {
   "cell_type": "markdown",
   "metadata": {},
   "source": [
    "### Читаем конфигурационные файлы"
   ]
  },
  {
   "cell_type": "code",
   "execution_count": 20,
   "metadata": {},
   "outputs": [],
   "source": [
    "with open('../configs/bitrix24.yaml') as f:\n",
    "    configs = yaml.safe_load(f)\n",
    "\n",
    "domain = configs['portal']\n",
    "uid = configs['uid']\n",
    "apikey = configs['apikey']"
   ]
  },
  {
   "cell_type": "markdown",
   "metadata": {},
   "source": [
    "### Формируем запрос к API"
   ]
  },
  {
   "cell_type": "code",
   "execution_count": 7,
   "metadata": {},
   "outputs": [
    {
     "data": {
      "text/plain": [
       "{'fields': {}, 'params': {'REGISTER_SONET_EVENT': 'Y'}}"
      ]
     },
     "execution_count": 7,
     "metadata": {},
     "output_type": "execute_result"
    }
   ],
   "source": [
    "query = dict(fields=dict(), params=dict(REGISTER_SONET_EVENT='Y'))\n",
    "query"
   ]
  },
  {
   "cell_type": "code",
   "execution_count": 8,
   "metadata": {},
   "outputs": [],
   "source": [
    "j = 27"
   ]
  },
  {
   "cell_type": "code",
   "execution_count": 9,
   "metadata": {},
   "outputs": [],
   "source": [
    "j += 1\n",
    "query['fields']['TITLE'] = f'Тестовая сделка от тендербота № {j}'  #Название лида \n",
    "query['fields']['TYPE_ID'] = 107\n",
    "query['fields']['CATEGORY_ID'] = 8\n",
    "query['fields']['COMMENTS'] = 'Тестовая сделка по госзакупкам. Здесь будет текст комментария'\n",
    "query['fields']['OPENED'] = 'N'\n",
    "query['fields']['CLOSEDATE'] = '2020-06-27'\n",
    "query['fields']['COMPANY_ID'] = 862\n",
    "# query['fields']['ASSIGNED_BY_ID'] = 278\n",
    "query['fields']['UF_CRM_1590599704283'] = 'http://zakupki.ru/'  # Ссылка на портал zakupki.gov.ru или на портал Заказчика\n",
    "query['fields']['UF_CRM_1548243578811'] = 250_000  # Обеспечение заявки\n",
    "query['fields']['UF_CRM_1548243648878'] = 1_370_500  # Обеспечение контракта\n",
    "query['fields']['OPPORTUNITY'] = 14_152_986  # Cтоимость контракта\n",
    "# query['fields']['ADDITIONAL_INFO'] = 'Здесь будет дополнительная информация о сделке'\n",
    "query['fields']['SOURCE_ID'] = 32"
   ]
  },
  {
   "cell_type": "code",
   "execution_count": 10,
   "metadata": {},
   "outputs": [
    {
     "data": {
      "text/plain": [
       "{'fields': {'TITLE': 'Тестовая сделка от тендербота № 28',\n",
       "  'TYPE_ID': 107,\n",
       "  'CATEGORY_ID': 8,\n",
       "  'COMMENTS': 'Тестовая сделка по госзакупкам. Здесь будет текст комментария',\n",
       "  'OPENED': 'N',\n",
       "  'CLOSEDATE': '2020-06-27',\n",
       "  'COMPANY_ID': 862,\n",
       "  'UF_CRM_1590599704283': 'http://zakupki.ru/',\n",
       "  'UF_CRM_1548243578811': 250000,\n",
       "  'UF_CRM_1548243648878': 1370500,\n",
       "  'OPPORTUNITY': 14152986,\n",
       "  'SOURCE_ID': 32},\n",
       " 'params': {'REGISTER_SONET_EVENT': 'Y'}}"
      ]
     },
     "execution_count": 10,
     "metadata": {},
     "output_type": "execute_result"
    }
   ],
   "source": [
    "query"
   ]
  },
  {
   "cell_type": "markdown",
   "metadata": {},
   "source": [
    "### Создаем объект Битрикс24"
   ]
  },
  {
   "cell_type": "code",
   "execution_count": 21,
   "metadata": {},
   "outputs": [],
   "source": [
    "bx24 = BX24(domain=domain, uid=uid, webhook=apikey)"
   ]
  },
  {
   "cell_type": "code",
   "execution_count": 22,
   "metadata": {},
   "outputs": [
    {
     "data": {
      "text/plain": [
       "'https://dilibrium.bitrix24.ru/rest/186/2nllymi3jljmwnwi'"
      ]
     },
     "execution_count": 22,
     "metadata": {},
     "output_type": "execute_result"
    }
   ],
   "source": [
    "bx24.url "
   ]
  },
  {
   "cell_type": "markdown",
   "metadata": {},
   "source": [
    "### Отправляем запрос к API"
   ]
  },
  {
   "cell_type": "code",
   "execution_count": 23,
   "metadata": {},
   "outputs": [
    {
     "data": {
      "text/plain": [
       "{'result': 3630,\n",
       " 'time': {'start': 1590682360.671638,\n",
       "  'finish': 1590682361.023026,\n",
       "  'duration': 0.35138797760009766,\n",
       "  'processing': 0.32310009002685547,\n",
       "  'date_start': '2020-05-28T19:12:40+03:00',\n",
       "  'date_finish': '2020-05-28T19:12:41+03:00'}}"
      ]
     },
     "execution_count": 23,
     "metadata": {},
     "output_type": "execute_result"
    }
   ],
   "source": [
    "bx24.callMethod(api_method='crm.deal.add', params=query)"
   ]
  },
  {
   "cell_type": "markdown",
   "metadata": {},
   "source": [
    "### Сделка создана, проверяем:"
   ]
  },
  {
   "cell_type": "code",
   "execution_count": 24,
   "metadata": {},
   "outputs": [
    {
     "data": {
      "text/plain": [
       "{'result': {'ID': '3630',\n",
       "  'TITLE': 'Тестовая сделка от тендербота № 28',\n",
       "  'TYPE_ID': '107',\n",
       "  'STAGE_ID': 'C8:NEW',\n",
       "  'PROBABILITY': None,\n",
       "  'CURRENCY_ID': 'RUB',\n",
       "  'OPPORTUNITY': '14152986.00',\n",
       "  'TAX_VALUE': None,\n",
       "  'LEAD_ID': None,\n",
       "  'COMPANY_ID': '862',\n",
       "  'CONTACT_ID': None,\n",
       "  'QUOTE_ID': None,\n",
       "  'BEGINDATE': '2020-05-28T03:00:00+03:00',\n",
       "  'CLOSEDATE': '2020-06-27T03:00:00+03:00',\n",
       "  'ASSIGNED_BY_ID': '186',\n",
       "  'CREATED_BY_ID': '186',\n",
       "  'MODIFY_BY_ID': '186',\n",
       "  'DATE_CREATE': '2020-05-28T19:12:40+03:00',\n",
       "  'DATE_MODIFY': '2020-05-28T19:12:40+03:00',\n",
       "  'OPENED': 'N',\n",
       "  'CLOSED': 'N',\n",
       "  'COMMENTS': 'Тестовая сделка по госзакупкам. Здесь будет текст комментария',\n",
       "  'ADDITIONAL_INFO': None,\n",
       "  'LOCATION_ID': None,\n",
       "  'CATEGORY_ID': '8',\n",
       "  'STAGE_SEMANTIC_ID': 'P',\n",
       "  'IS_NEW': 'Y',\n",
       "  'IS_RECURRING': 'N',\n",
       "  'IS_RETURN_CUSTOMER': 'N',\n",
       "  'IS_REPEATED_APPROACH': 'N',\n",
       "  'SOURCE_ID': '32',\n",
       "  'SOURCE_DESCRIPTION': None,\n",
       "  'ORIGINATOR_ID': None,\n",
       "  'ORIGIN_ID': None,\n",
       "  'UTM_SOURCE': None,\n",
       "  'UTM_MEDIUM': None,\n",
       "  'UTM_CAMPAIGN': None,\n",
       "  'UTM_CONTENT': None,\n",
       "  'UTM_TERM': None,\n",
       "  'UF_CRM_59F1D464C7CB3': '',\n",
       "  'UF_CRM_B24_PORTAL': '',\n",
       "  'UF_CRM_LICENSE_KEY': '',\n",
       "  'UF_CRM_CITY': '',\n",
       "  'UF_CRM_1548243578811': '250000|RUB',\n",
       "  'UF_CRM_1548243648878': '1370500|RUB',\n",
       "  'UF_CRM_1548243747417': '',\n",
       "  'UF_CRM_1548245317652': '',\n",
       "  'UF_CRM_1558247110820': '',\n",
       "  'UF_CRM_1558247190043': '',\n",
       "  'UF_CRM_1558615548627': '',\n",
       "  'UF_CRM_5CEF978135C6C': '',\n",
       "  'UF_CRM_5CEF97814385E': '',\n",
       "  'UF_CRM_5CEF9781DCAF5': '',\n",
       "  'UF_CRM_5CEFE53DE1F61': '',\n",
       "  'UF_CRM_1565620402': '',\n",
       "  'UF_CRM_1573134809414': '',\n",
       "  'UF_CRM_1574342101566': '',\n",
       "  'UF_CRM_5E8D88F700CE3': '',\n",
       "  'UF_CRM_5E8D88F71CB18': False,\n",
       "  'UF_CRM_5E8D88F72E461': '',\n",
       "  'UF_CRM_5E8D88F73E10D': '',\n",
       "  'UF_CRM_5E8D88F748F2A': '',\n",
       "  'UF_CRM_5E8D88F757D96': '',\n",
       "  'UF_CRM_5E9F0B5172920': '',\n",
       "  'UF_CRM_5E9F0B5184DCD': '',\n",
       "  'UF_CRM_5E9F0B518DA58': False,\n",
       "  'UF_CRM_5E9F0B519AC3E': '',\n",
       "  'UF_CRM_5E9F0B51A21D1': False,\n",
       "  'UF_CRM_5E9F0B51AF72C': '',\n",
       "  'UF_CRM_PHOTOS': [],\n",
       "  'UF_CRM_COMMENTS': False,\n",
       "  'UF_CRM_GEOMARK': False,\n",
       "  'UF_CRM_PHOTOREPORT': '',\n",
       "  'UF_CRM_1590599704283': 'http://zakupki.ru/'},\n",
       " 'time': {'start': 1590682425.939378,\n",
       "  'finish': 1590682425.979957,\n",
       "  'duration': 0.04057908058166504,\n",
       "  'processing': 0.015950918197631836,\n",
       "  'date_start': '2020-05-28T19:13:45+03:00',\n",
       "  'date_finish': '2020-05-28T19:13:45+03:00'}}"
      ]
     },
     "execution_count": 24,
     "metadata": {},
     "output_type": "execute_result"
    }
   ],
   "source": [
    "bx24.callMethod('crm.deal.get', params={'id': 3630})"
   ]
  }
 ],
 "metadata": {
  "kernelspec": {
   "display_name": "python-3",
   "language": "python",
   "name": "python3"
  },
  "language_info": {
   "codemirror_mode": {
    "name": "ipython",
    "version": 3
   },
   "file_extension": ".py",
   "mimetype": "text/x-python",
   "name": "python",
   "nbconvert_exporter": "python",
   "pygments_lexer": "ipython3",
   "version": "3.7.4"
  }
 },
 "nbformat": 4,
 "nbformat_minor": 2
}
