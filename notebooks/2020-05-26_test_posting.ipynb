{
 "cells": [
  {
   "cell_type": "markdown",
   "metadata": {},
   "source": [
    "# Тестируем отправку почты "
   ]
  },
  {
   "cell_type": "code",
   "execution_count": 1,
   "metadata": {},
   "outputs": [],
   "source": [
    "import smtplib\n",
    "import yaml"
   ]
  },
  {
   "cell_type": "code",
   "execution_count": null,
   "metadata": {},
   "outputs": [],
   "source": [
    "#help(smtplib)"
   ]
  },
  {
   "cell_type": "code",
   "execution_count": 47,
   "metadata": {},
   "outputs": [],
   "source": [
    "server = smtplib.SMTP_SSL('smtp.yandex.ru', 465)"
   ]
  },
  {
   "cell_type": "markdown",
   "metadata": {},
   "source": [
    "### Авторизация"
   ]
  },
  {
   "cell_type": "markdown",
   "metadata": {},
   "source": [
    "###### Чтение конфигурационного файла"
   ]
  },
  {
   "cell_type": "code",
   "execution_count": 31,
   "metadata": {},
   "outputs": [],
   "source": [
    "with open('../configs/tenderbot.yaml') as f:\n",
    "    configs = yaml.safe_load(f)"
   ]
  },
  {
   "cell_type": "code",
   "execution_count": 32,
   "metadata": {},
   "outputs": [],
   "source": [
    "email = configs['email']\n",
    "password = configs['password']"
   ]
  },
  {
   "cell_type": "code",
   "execution_count": 48,
   "metadata": {},
   "outputs": [],
   "source": [
    "server.set_debuglevel(1)"
   ]
  },
  {
   "cell_type": "code",
   "execution_count": 49,
   "metadata": {},
   "outputs": [
    {
     "name": "stderr",
     "output_type": "stream",
     "text": [
      "send: 'ehlo tenderbot@dilibrium.ru\\r\\n'\n",
      "reply: b'250-myt5-95c1fb78270f.qloud-c.yandex.net\\r\\n'\n",
      "reply: b'250-8BITMIME\\r\\n'\n",
      "reply: b'250-PIPELINING\\r\\n'\n",
      "reply: b'250-SIZE 42991616\\r\\n'\n",
      "reply: b'250-AUTH LOGIN PLAIN XOAUTH2\\r\\n'\n",
      "reply: b'250-DSN\\r\\n'\n",
      "reply: b'250 ENHANCEDSTATUSCODES\\r\\n'\n",
      "reply: retcode (250); Msg: b'myt5-95c1fb78270f.qloud-c.yandex.net\\n8BITMIME\\nPIPELINING\\nSIZE 42991616\\nAUTH LOGIN PLAIN XOAUTH2\\nDSN\\nENHANCEDSTATUSCODES'\n"
     ]
    },
    {
     "data": {
      "text/plain": [
       "(250,\n",
       " b'myt5-95c1fb78270f.qloud-c.yandex.net\\n8BITMIME\\nPIPELINING\\nSIZE 42991616\\nAUTH LOGIN PLAIN XOAUTH2\\nDSN\\nENHANCEDSTATUSCODES')"
      ]
     },
     "execution_count": 49,
     "metadata": {},
     "output_type": "execute_result"
    }
   ],
   "source": [
    "server.ehlo(email)"
   ]
  },
  {
   "cell_type": "code",
   "execution_count": 50,
   "metadata": {},
   "outputs": [
    {
     "name": "stderr",
     "output_type": "stream",
     "text": [
      "send: 'AUTH PLAIN AHRlbmRlcmJvdEBkaWxpYnJpdW0ucnUAUTVqLTJYVC1KRmotelVO\\r\\n'\n",
      "reply: b'235 2.7.0 Authentication successful.\\r\\n'\n",
      "reply: retcode (235); Msg: b'2.7.0 Authentication successful.'\n"
     ]
    },
    {
     "data": {
      "text/plain": [
       "(235, b'2.7.0 Authentication successful.')"
      ]
     },
     "execution_count": 50,
     "metadata": {},
     "output_type": "execute_result"
    }
   ],
   "source": [
    "server.login(email, password)"
   ]
  },
  {
   "cell_type": "code",
   "execution_count": 36,
   "metadata": {},
   "outputs": [
    {
     "data": {
      "text/plain": [
       "'\\x00tenderbot@dilibrium.ru\\x00Q5j-2XT-JFj-zUN'"
      ]
     },
     "execution_count": 36,
     "metadata": {},
     "output_type": "execute_result"
    }
   ],
   "source": [
    "server.auth_plain()"
   ]
  },
  {
   "cell_type": "code",
   "execution_count": 51,
   "metadata": {},
   "outputs": [],
   "source": [
    "dest_email = 'antonever@yandex.ru'\n",
    "subject = 'Testing Python'\n",
    "email_text = \"\"\"\n",
    "This is text letter from Python\n",
    "\"\"\""
   ]
  },
  {
   "cell_type": "code",
   "execution_count": 52,
   "metadata": {},
   "outputs": [],
   "source": [
    "message = f'From: {email}\\nTo: {dest_email}\\nSubject: {subject}\\n\\n{email_text}'"
   ]
  },
  {
   "cell_type": "code",
   "execution_count": 53,
   "metadata": {},
   "outputs": [
    {
     "name": "stderr",
     "output_type": "stream",
     "text": [
      "send: 'mail FROM:<tenderbot@dilibrium.ru> size=117\\r\\n'\n",
      "reply: b'250 2.1.0 <tenderbot@dilibrium.ru> ok\\r\\n'\n",
      "reply: retcode (250); Msg: b'2.1.0 <tenderbot@dilibrium.ru> ok'\n",
      "send: 'rcpt TO:<antonever@yandex.ru>\\r\\n'\n",
      "reply: b'250 2.1.5 <antonever@yandex.ru> recipient ok\\r\\n'\n",
      "reply: retcode (250); Msg: b'2.1.5 <antonever@yandex.ru> recipient ok'\n",
      "send: 'data\\r\\n'\n",
      "reply: b'354 Enter mail, end with \".\" on a line by itself\\r\\n'\n",
      "reply: retcode (354); Msg: b'Enter mail, end with \".\" on a line by itself'\n",
      "data: (354, b'Enter mail, end with \".\" on a line by itself')\n",
      "send: b'From: tenderbot@dilibrium.ru\\r\\nTo: antonever@yandex.ru\\r\\nSubject: Testing Python\\r\\n\\r\\n\\r\\nThis is text letter from Python\\r\\n.\\r\\n'\n",
      "reply: b'250 2.0.0 Ok: queued on myt5-95c1fb78270f.qloud-c.yandex.net as 1590485627-Xi8PS81XYk-XkWKkL5i\\r\\n'\n",
      "reply: retcode (250); Msg: b'2.0.0 Ok: queued on myt5-95c1fb78270f.qloud-c.yandex.net as 1590485627-Xi8PS81XYk-XkWKkL5i'\n",
      "data: (250, b'2.0.0 Ok: queued on myt5-95c1fb78270f.qloud-c.yandex.net as 1590485627-Xi8PS81XYk-XkWKkL5i')\n"
     ]
    },
    {
     "data": {
      "text/plain": [
       "{}"
      ]
     },
     "execution_count": 53,
     "metadata": {},
     "output_type": "execute_result"
    }
   ],
   "source": [
    "server.sendmail(email, dest_email, message)"
   ]
  }
 ],
 "metadata": {
  "kernelspec": {
   "display_name": "python-3",
   "language": "python",
   "name": "python3"
  },
  "language_info": {
   "codemirror_mode": {
    "name": "ipython",
    "version": 3
   },
   "file_extension": ".py",
   "mimetype": "text/x-python",
   "name": "python",
   "nbconvert_exporter": "python",
   "pygments_lexer": "ipython3",
   "version": "3.7.4"
  }
 },
 "nbformat": 4,
 "nbformat_minor": 2
}
